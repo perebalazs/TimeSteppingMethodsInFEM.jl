{
 "cells": [
  {
   "cell_type": "code",
   "execution_count": 199,
   "metadata": {},
   "outputs": [],
   "source": [
    "import gmsh\n",
    "gmsh.initialize()"
   ]
  },
  {
   "cell_type": "code",
   "execution_count": 200,
   "metadata": {},
   "outputs": [],
   "source": [
    "gmsh.model.add(\"rectangle\")\n",
    "rect = gmsh.model.occ.addRectangle(0,0,0,1,2,0)\n",
    "gmsh.model.occ.mesh.setSize([2,rect],20)\n",
    "gmsh.model.occ.synchronize()"
   ]
  },
  {
   "cell_type": "code",
   "execution_count": 201,
   "metadata": {},
   "outputs": [
    {
     "name": "stdout",
     "output_type": "stream",
     "text": [
      "Info    : Meshing 1D...\n",
      "Info    : [  0%] Meshing curve 1 (Line)\n",
      "Info    : [ 30%] Meshing curve 2 (Line)\n",
      "Info    : [ 50%] Meshing curve 3 (Line)\n",
      "Info    : [ 80%] Meshing curve 4 (Line)\n",
      "Info    : Done meshing 1D (Wall 0.00053313s, CPU 0.000476s)\n",
      "Info    : 6 nodes 10 elements\n",
      "Info    : Meshing 2D...\n",
      "Info    : Meshing surface 0 (Plane, Frontal-Delaunay for Quads)\n",
      "Info    : Done meshing 2D (Wall 0.00059896s, CPU 0.000592s)\n",
      "Info    : 6 nodes 14 elements\n",
      "Info    : Recombining 2D mesh...\n",
      "Info    : Blossom: 3 internal 4 closed\n",
      "Info    : Blossom recombination completed (Wall 4.3073e-05s, CPU 4.3e-05s): 2 quads, 0 triangles, 0 invalid quads, 0 quads with Q < 0.1, avg Q = 1, min Q = 1\n",
      "Info    : Done recombining 2D mesh (Wall 5.5945e-05s, CPU 5.9e-05s)\n"
     ]
    }
   ],
   "source": [
    "ov = gmsh.model.getEntities(0);\n",
    "gmsh.model.mesh.setSize(ov,1)\n",
    "gmsh.model.mesh.setAlgorithm(2, rect, 8)\n",
    "gmsh.model.mesh.generate(1)\n",
    "gmsh.model.mesh.generate(2)\n",
    "gmsh.model.mesh.recombine()"
   ]
  },
  {
   "cell_type": "code",
   "execution_count": 202,
   "metadata": {},
   "outputs": [
    {
     "data": {
      "text/plain": [
       "3×6 Matrix{Float64}:\n",
       " 0.0  1.0  1.0  0.0  1.0  0.0\n",
       " 0.0  0.0  2.0  2.0  1.0  1.0\n",
       " 0.0  0.0  0.0  0.0  0.0  0.0"
      ]
     },
     "metadata": {},
     "output_type": "display_data"
    },
    {
     "data": {
      "text/plain": [
       "2×4 adjoint(::Matrix{Int64}) with eltype Int64:\n",
       " 1  2  5  6\n",
       " 3  4  6  5"
      ]
     },
     "metadata": {},
     "output_type": "display_data"
    }
   ],
   "source": [
    "entities = gmsh.model.getEntities(2)\n",
    "nodeTags, nodeCoords, nodeParams = gmsh.model.mesh.getNodes(-1, -1)\n",
    "elemTypes, elemTags, elemNodeTags = gmsh.model.mesh.getElements(2, -1)\n",
    "#println(Int64.(elemNodeTags[1]))\n",
    "#display(nodeCoords)\n",
    "display(reshape(nodeCoords, 3,:))\n",
    "display((Int64.(reshape(elemNodeTags[1], 4,:)))')"
   ]
  },
  {
   "cell_type": "code",
   "execution_count": 203,
   "metadata": {},
   "outputs": [],
   "source": [
    "gmsh.fltk.run()\n",
    "gmsh.finalize()"
   ]
  }
 ],
 "metadata": {
  "kernelspec": {
   "display_name": "Julia 1.9.1",
   "language": "julia",
   "name": "julia-1.9"
  },
  "language_info": {
   "file_extension": ".jl",
   "mimetype": "application/julia",
   "name": "julia",
   "version": "1.9.1"
  },
  "orig_nbformat": 4
 },
 "nbformat": 4,
 "nbformat_minor": 2
}
